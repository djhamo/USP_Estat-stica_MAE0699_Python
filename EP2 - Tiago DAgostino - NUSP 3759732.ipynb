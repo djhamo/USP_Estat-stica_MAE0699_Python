{
 "cells": [
  {
   "cell_type": "code",
   "execution_count": 22,
   "metadata": {},
   "outputs": [],
   "source": [
    "import pylatex"
   ]
  },
  {
   "cell_type": "markdown",
   "metadata": {},
   "source": [
    "# Processo de ramificação"
   ]
  },
  {
   "cell_type": "markdown",
   "metadata": {},
   "source": [
    "$p_k = e^{-\\theta} \\frac{\\theta^k}{k!}$, k = 0,1,2,..."
   ]
  },
  {
   "cell_type": "markdown",
   "metadata": {},
   "source": [
    "onde $\\theta$ é um parâmetro positivo e vamos considerar 2 casos: $\\theta = 0,n_1$ e $\\theta = 2,n_1$\n",
    "\n",
    "$n_1$ é o último dígito diferente de 0 do meu nUSP, nesse caso 2. \n",
    "\n",
    "NUSP:3759732"
   ]
  },
  {
   "cell_type": "markdown",
   "metadata": {},
   "source": [
    "## Simular os 20 primeiros passos do processo nos dois seguintes casos, com $X_0 = 10$"
   ]
  },
  {
   "cell_type": "code",
   "execution_count": 1,
   "metadata": {},
   "outputs": [],
   "source": [
    "import numpy as np\n",
    "import math\n",
    "\n",
    "def p(theta, k):\n",
    "    pk = np.exp(-theta) * ((math.pow(theta,k))/(np.math.factorial(k)))\n",
    "    return pk\n",
    "\n",
    "\n",
    "def ramificacao(M, X, theta):\n",
    "    n = 0\n",
    "    print(\"Inicio: \")\n",
    "    while (X[n] != 0 and n <= (M - 1)):\n",
    "        n += 1\n",
    "        print(\"{} \".format(n), end=\"\", flush=True)\n",
    "        j = 1\n",
    "        X[n] = 0\n",
    "        while (j <= X[n - 1]):\n",
    "            U = np.random.uniform()\n",
    "            i = 0\n",
    "            soma = p(theta, i)\n",
    "            while (U >= soma):\n",
    "                i += 1\n",
    "                soma += p(theta, i)\n",
    "\n",
    "            X[n] += i\n",
    "            j += 1"
   ]
  },
  {
   "cell_type": "markdown",
   "metadata": {},
   "source": [
    "## Corrigido"
   ]
  },
  {
   "cell_type": "code",
   "execution_count": 43,
   "metadata": {},
   "outputs": [],
   "source": [
    "def _poisson(k, theta):\n",
    "    aux = np.math.pow(theta,k) * np.math.exp(-theta)/np.math.factorial(k)\n",
    "    return aux \n",
    "\n",
    "def _ramificacao(M, X, theta):\n",
    "    i = 0\n",
    "    print(\"Inicio: \")\n",
    "    while (X[i] != 0 and i <= (M - 1)):\n",
    "        i += 1\n",
    "        print(\"{} \".format(i), end=\"\", flush=True)\n",
    "        j = 1\n",
    "        while (j <= X[i - 1]):\n",
    "            n = 0\n",
    "            U = np.random.uniform()\n",
    "            p = _poisson(0,theta)\n",
    "            while ( U >= p ) :\n",
    "                n = n + 1\n",
    "                p = p + _poisson(n,theta)\n",
    "        \n",
    "            X[i] = n\n",
    "            j += 1"
   ]
  },
  {
   "cell_type": "code",
   "execution_count": 29,
   "metadata": {},
   "outputs": [],
   "source": [
    "r1 = np.zeros(21, int)\n",
    "r1[0] = 10"
   ]
  },
  {
   "cell_type": "code",
   "execution_count": 30,
   "metadata": {},
   "outputs": [
    {
     "name": "stdout",
     "output_type": "stream",
     "text": [
      "Inicio: 1\n",
      "Inicio: 2\n",
      "Inicio: 3\n",
      "Inicio: 4\n"
     ]
    }
   ],
   "source": [
    "ramificacao(20,r1,0.2)"
   ]
  },
  {
   "cell_type": "code",
   "execution_count": 31,
   "metadata": {},
   "outputs": [
    {
     "data": {
      "text/plain": [
       "array([10,  6,  2,  1,  0,  0,  0,  0,  0,  0,  0,  0,  0,  0,  0,  0,  0,\n",
       "        0,  0,  0,  0])"
      ]
     },
     "execution_count": 31,
     "metadata": {},
     "output_type": "execute_result"
    }
   ],
   "source": [
    "r1"
   ]
  },
  {
   "cell_type": "code",
   "execution_count": 32,
   "metadata": {},
   "outputs": [],
   "source": [
    "r2 = np.zeros(21,int)\n",
    "r2[0] = 10\n"
   ]
  },
  {
   "cell_type": "code",
   "execution_count": 33,
   "metadata": {},
   "outputs": [
    {
     "name": "stdout",
     "output_type": "stream",
     "text": [
      "Inicio: 1\n",
      "Inicio: 2\n",
      "Inicio: 3\n",
      "Inicio: 4\n",
      "Inicio: 5\n",
      "Inicio: 6\n",
      "Inicio: 7\n",
      "Inicio: 8\n",
      "Inicio: 9\n",
      "Inicio: 10\n",
      "Inicio: 11\n",
      "Inicio: 12\n",
      "Inicio: 13\n",
      "Inicio: 14\n",
      "Inicio: 15\n",
      "Inicio: 16\n",
      "Inicio: 17\n",
      "Inicio: 18\n",
      "Inicio: 19\n",
      "Inicio: 20\n"
     ]
    }
   ],
   "source": [
    "ramificacao(20,r2,2.2)"
   ]
  },
  {
   "cell_type": "code",
   "execution_count": 34,
   "metadata": {},
   "outputs": [
    {
     "data": {
      "text/plain": [
       "array([      10,       16,       38,       87,      187,      423,\n",
       "            872,     1849,     4042,     8669,    19221,    42238,\n",
       "          92611,   203959,   448243,   987544,  2172805,  4779951,\n",
       "       10516057, 23134240, 50890072])"
      ]
     },
     "execution_count": 34,
     "metadata": {},
     "output_type": "execute_result"
    }
   ],
   "source": [
    "r2"
   ]
  },
  {
   "cell_type": "markdown",
   "metadata": {},
   "source": [
    "## Corrigido"
   ]
  },
  {
   "cell_type": "code",
   "execution_count": 42,
   "metadata": {},
   "outputs": [
    {
     "name": "stdout",
     "output_type": "stream",
     "text": [
      "Corrigido\n",
      "Inicio: \n",
      "1 [10  0  0  0  0  0  0  0  0  0  0  0  0  0  0  0  0  0  0  0  0]\n",
      "Inicio: \n",
      "1 2 3 4 5 6 7 8 9 10 11 12 13 14 15 16 17 18 19 20 [10  5  5  2  2  4  5  1  2  2  1  4  3  4  2  4  2  3  2  4  3]\n"
     ]
    }
   ],
   "source": [
    "print(\"Corrigido\")\n",
    "\n",
    "r1 = np.zeros(21, int)\n",
    "r1[0] = 10\n",
    "\n",
    "_ramificacao(20,r1,0.2)\n",
    "\n",
    "print(r1)\n",
    "\n",
    "r2 = np.zeros(21,int)\n",
    "r2[0] = 10\n",
    "\n",
    "_ramificacao(20,r2,2.2)\n",
    "\n",
    "print(r2)\n",
    "\n"
   ]
  },
  {
   "cell_type": "markdown",
   "metadata": {},
   "source": [
    "Isso não bate com a teoria, explicações no final."
   ]
  },
  {
   "cell_type": "markdown",
   "metadata": {},
   "source": [
    "## Para os dois casos diga o que puder sobre o limite:\n",
    "$\\lim_{n to \\infty} P(X_n \\geq 1| X_0 = 10)$"
   ]
  },
  {
   "cell_type": "markdown",
   "metadata": {},
   "source": [
    "### Para o primeiro caso, onde $\\theta = 0.2$, $X_n$ vai rapidamente a 0. Assim,  $P(X_n \\geq 1| X_0 = 10)$ quando n vai para o infinito é 0.\n",
    "No caso onde $\\theta = 2.2$, ocorre o contrário, o valor cresce e $X_n$ vai ser sempre maior que 1 quando o n for a infinito.\n",
    "\n",
    "Com isso, poderíamos ter uma ideia da grandeza do valor de $E(X_{20})$.\n",
    "$E(X_n|X_0 = 10) = 10 (kp)^n$\n",
    "No caso da Poisson, temos que este valor é igual a $\\theta$.\n",
    "Desta maneira, para o $\\theta = 0.2$, teríamos: $10 * (0,2)^{20} = 1,048x10^{-13}$; para $\\theta = 2.2$, teríamos: $10 * (2,2)^{20} = 7,05x10^7$. Portanto, os meus resultados correspondem à grandeza esperada."
   ]
  },
  {
   "cell_type": "markdown",
   "metadata": {},
   "source": [
    "# Epidemia"
   ]
  },
  {
   "cell_type": "markdown",
   "metadata": {},
   "source": [
    "$q_k = (1 - \\alpha) \\alpha^k, k = 0,1,2,...$,\n",
    "onde, $\\alpha \\in (0,1)$\n"
   ]
  },
  {
   "cell_type": "markdown",
   "metadata": {},
   "source": [
    "Vamos considerar dois casos: $\\alpha = 0,9$ e $p = 0,n_2$ e $\\alpha = 0,1$ e $p = 0,n_2$\n",
    "\n",
    "Sendo $n_2$ o penúltimo dígito diferente de 0 do meu nUSP, aqui 0,3."
   ]
  },
  {
   "cell_type": "markdown",
   "metadata": {},
   "source": [
    "## Processo de epidemia com número aleatório"
   ]
  },
  {
   "cell_type": "code",
   "execution_count": 19,
   "metadata": {},
   "outputs": [],
   "source": [
    "def qk(alpha, k):\n",
    "    q = (1-alpha)*math.pow(alpha,k)\n",
    "    return q\n",
    "\n",
    "def epidemia(M,X,alpha,p):\n",
    "    n = 0 \n",
    "    while (X[n]!=0 and n<=M-1):\n",
    "        n += 1\n",
    "        print(\"Inicio: {}\".format(n))\n",
    "        X[n] = 0\n",
    "        for i in range(X[n-1]):\n",
    "            k = 0 #número de contatos\n",
    "            u = np.random.uniform()\n",
    "            #print(\"u1 {}\".format(u))\n",
    "            contatos = qk(alpha, k)\n",
    "            while(u>=contatos):\n",
    "                k += 1\n",
    "                contatos += qk(alpha, k)\n",
    "            s = 0 \n",
    "            j = 0\n",
    "            for j in range(k):\n",
    "                u = np.random.uniform()\n",
    "                #print(\"u2 {}\".format(u))\n",
    "                if(u<=p):\n",
    "                    s += 1\n",
    "            X[n] += s\n",
    "            #print(\"X[{}] = {}\".format(n, X[n]))         \n"
   ]
  },
  {
   "cell_type": "markdown",
   "metadata": {},
   "source": [
    "## Simular 20 passos do algoritmo para ambos os casos, com $X_0 = 10$."
   ]
  },
  {
   "cell_type": "code",
   "execution_count": 46,
   "metadata": {},
   "outputs": [],
   "source": [
    "e1 = np.zeros(21, int)\n",
    "e1[0] = 10"
   ]
  },
  {
   "cell_type": "code",
   "execution_count": 47,
   "metadata": {},
   "outputs": [
    {
     "name": "stdout",
     "output_type": "stream",
     "text": [
      "Inicio: 1\n",
      "Inicio: 2\n",
      "Inicio: 3\n",
      "Inicio: 4\n",
      "Inicio: 5\n",
      "Inicio: 6\n",
      "Inicio: 7\n",
      "Inicio: 8\n",
      "Inicio: 9\n",
      "Inicio: 10\n",
      "Inicio: 11\n",
      "Inicio: 12\n",
      "Inicio: 13\n",
      "Inicio: 14\n",
      "Inicio: 15\n",
      "Inicio: 16\n",
      "Inicio: 17\n",
      "Inicio: 18\n",
      "Inicio: 19\n",
      "Inicio: 20\n"
     ]
    },
    {
     "ename": "KeyboardInterrupt",
     "evalue": "",
     "output_type": "error",
     "traceback": [
      "\u001b[0;31m---------------------------------------------------------------------------\u001b[0m",
      "\u001b[0;31mKeyboardInterrupt\u001b[0m                         Traceback (most recent call last)",
      "\u001b[0;32m<ipython-input-47-b25266fc209b>\u001b[0m in \u001b[0;36m<module>\u001b[0;34m\u001b[0m\n\u001b[0;32m----> 1\u001b[0;31m \u001b[0mepidemia\u001b[0m\u001b[0;34m(\u001b[0m\u001b[0;36m20\u001b[0m\u001b[0;34m,\u001b[0m\u001b[0me1\u001b[0m\u001b[0;34m,\u001b[0m\u001b[0;36m0.9\u001b[0m\u001b[0;34m,\u001b[0m\u001b[0;36m0.3\u001b[0m\u001b[0;34m)\u001b[0m\u001b[0;34m\u001b[0m\u001b[0;34m\u001b[0m\u001b[0m\n\u001b[0m",
      "\u001b[0;32m<ipython-input-44-1d223a1e4f72>\u001b[0m in \u001b[0;36mepidemia\u001b[0;34m(M, X, alpha, p)\u001b[0m\n\u001b[1;32m     16\u001b[0m             \u001b[0mj\u001b[0m \u001b[0;34m=\u001b[0m \u001b[0;36m0\u001b[0m\u001b[0;34m\u001b[0m\u001b[0;34m\u001b[0m\u001b[0m\n\u001b[1;32m     17\u001b[0m             \u001b[0;32mfor\u001b[0m \u001b[0mj\u001b[0m \u001b[0;32min\u001b[0m \u001b[0mrange\u001b[0m\u001b[0;34m(\u001b[0m\u001b[0mk\u001b[0m\u001b[0;34m)\u001b[0m\u001b[0;34m:\u001b[0m\u001b[0;34m\u001b[0m\u001b[0;34m\u001b[0m\u001b[0m\n\u001b[0;32m---> 18\u001b[0;31m                 \u001b[0mu\u001b[0m \u001b[0;34m=\u001b[0m \u001b[0mnp\u001b[0m\u001b[0;34m.\u001b[0m\u001b[0mrandom\u001b[0m\u001b[0;34m.\u001b[0m\u001b[0muniform\u001b[0m\u001b[0;34m(\u001b[0m\u001b[0;34m)\u001b[0m\u001b[0;34m\u001b[0m\u001b[0;34m\u001b[0m\u001b[0m\n\u001b[0m\u001b[1;32m     19\u001b[0m                 \u001b[0;31m#print(\"u2 {}\".format(u))\u001b[0m\u001b[0;34m\u001b[0m\u001b[0;34m\u001b[0m\u001b[0;34m\u001b[0m\u001b[0m\n\u001b[1;32m     20\u001b[0m                 \u001b[0;32mif\u001b[0m\u001b[0;34m(\u001b[0m\u001b[0mu\u001b[0m\u001b[0;34m<=\u001b[0m\u001b[0mp\u001b[0m\u001b[0;34m)\u001b[0m\u001b[0;34m:\u001b[0m\u001b[0;34m\u001b[0m\u001b[0;34m\u001b[0m\u001b[0m\n",
      "\u001b[0;31mKeyboardInterrupt\u001b[0m: "
     ]
    }
   ],
   "source": [
    "epidemia(20,e1,0.9,0.3)"
   ]
  },
  {
   "cell_type": "code",
   "execution_count": 48,
   "metadata": {},
   "outputs": [
    {
     "data": {
      "text/plain": [
       "array([       10,        13,        23,        34,        73,       210,\n",
       "             593,      1645,      4413,     11968,     32217,     86896,\n",
       "          234696,    635382,   1714162,   4624559,  12484927,  33725465,\n",
       "        91069195, 245882310, 229119208])"
      ]
     },
     "execution_count": 48,
     "metadata": {},
     "output_type": "execute_result"
    }
   ],
   "source": [
    "e1"
   ]
  },
  {
   "cell_type": "code",
   "execution_count": 49,
   "metadata": {},
   "outputs": [],
   "source": [
    "e2 = np.zeros(20,int)\n",
    "e2[0] = 10"
   ]
  },
  {
   "cell_type": "code",
   "execution_count": 50,
   "metadata": {},
   "outputs": [
    {
     "name": "stdout",
     "output_type": "stream",
     "text": [
      "Inicio: 1\n",
      "Inicio: 2\n"
     ]
    }
   ],
   "source": [
    "epidemia(21,e2,0.1,0.3)"
   ]
  },
  {
   "cell_type": "code",
   "execution_count": 51,
   "metadata": {},
   "outputs": [
    {
     "data": {
      "text/plain": [
       "array([10,  1,  0,  0,  0,  0,  0,  0,  0,  0,  0,  0,  0,  0,  0,  0,  0,\n",
       "        0,  0,  0])"
      ]
     },
     "execution_count": 51,
     "metadata": {},
     "output_type": "execute_result"
    }
   ],
   "source": [
    "e2"
   ]
  },
  {
   "cell_type": "markdown",
   "metadata": {},
   "source": [
    "## Para ambos os casos calcular o seguinte:\n",
    "$\\lim_{n to \\infty} P(X_n \\geq 1| X_0 = 10)$"
   ]
  },
  {
   "cell_type": "markdown",
   "metadata": {},
   "source": [
    "Para o primeiro caso, onde nosso $\\alpha = 0.9$ depois o valor de $X_n$ cresce rapidamente, assim o limite é 1, a $P(X_n \\geq 1| X_0 = 10)$ quando n tende a infinito é 1.\n",
    "Já, no segundo caso, nosso $\\alpha = 0.1$, fazendo com que o número de contatos seja menor, e mantemos a probabilidade de infecção igual. Dessa maneira, quando n tende a infinito a $P(X_n \\geq 1| X_0 = 10)$ é 0."
   ]
  },
  {
   "cell_type": "markdown",
   "metadata": {},
   "source": [
    "## Correções\n",
    "Modifiquei o algorítimo segundo o algorítimo da correção e foram encontrados valores discrepantes para o item 2, pois o algorítimo da resolução implementado acaba indo pra zero mesmo para theta \"grade\" (2.2). Acredito que a implementação da correção possa estar errada e a minha resposta está certa pois segue junto a teoria.\n",
    "Portando acredito que o item 1, 2 e 3 estejam corretos.\n",
    "\n",
    "No item 4 o cálculo do limite está incorreto segundo a resolução, mas não consegui corrigir. \n",
    "\n",
    "No item 5 está correto.\n",
    "\n",
    "No item 6 foi melhorado.\n",
    "\n",
    "No item 7 está correto."
   ]
  },
  {
   "cell_type": "code",
   "execution_count": null,
   "metadata": {},
   "outputs": [],
   "source": []
  }
 ],
 "metadata": {
  "kernelspec": {
   "display_name": "Python 3",
   "language": "python",
   "name": "python3"
  },
  "language_info": {
   "codemirror_mode": {
    "name": "ipython",
    "version": 3
   },
   "file_extension": ".py",
   "mimetype": "text/x-python",
   "name": "python",
   "nbconvert_exporter": "python",
   "pygments_lexer": "ipython3",
   "version": "3.7.3"
  }
 },
 "nbformat": 4,
 "nbformat_minor": 4
}
