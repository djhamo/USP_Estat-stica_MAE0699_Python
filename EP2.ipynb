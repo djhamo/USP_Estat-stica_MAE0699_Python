{
 "cells": [
  {
   "cell_type": "code",
   "execution_count": 1,
   "metadata": {},
   "outputs": [],
   "source": [
    "import numpy as np\n",
    "import math\n",
    "import pylatex\n"
   ]
  },
  {
   "cell_type": "markdown",
   "metadata": {},
   "source": [
    "# Questão 1 - Processo de ramificação com:"
   ]
  },
  {
   "cell_type": "markdown",
   "metadata": {},
   "source": [
    "$p_k = e^{-\\theta} \\frac{\\theta^k}{k!}$, k = 0,1,2,..."
   ]
  },
  {
   "cell_type": "markdown",
   "metadata": {},
   "source": [
    "onde $\\theta$ é um parâmetro positivo e vamos considerar 2 casos:\n",
    "\n",
    "$\\theta = 0,n_1$ \n",
    "\n",
    "\n",
    "$\\theta = 2,n_1$\n",
    "\n",
    "$n_1$ é o último dígito diferente de 0 do meu nUSP, nesse caso 2. Pois o meu NUSP é 3759732"
   ]
  },
  {
   "cell_type": "markdown",
   "metadata": {},
   "source": [
    "## a) Implementar o algoritmo de simulação do processo de ramificação. Simular os 20 primeiros passos do processo nos dois seguintes casos. Ambos os casos, $X_0 = 10$"
   ]
  },
  {
   "cell_type": "code",
   "execution_count": 2,
   "metadata": {},
   "outputs": [],
   "source": [
    "def poisson(theta, k):\n",
    "    pk = np.exp(-theta) * ((math.pow(theta,k))/(np.math.factorial(k)))\n",
    "    return pk"
   ]
  },
  {
   "cell_type": "code",
   "execution_count": 14,
   "metadata": {},
   "outputs": [],
   "source": [
    "def ramificacao(M,X,theta):\n",
    "    n = 0\n",
    "    while(X[n]!=0 and n <= (M-1)):\n",
    "        n += 1\n",
    "        print(\"Inicio: {}\".format(n))\n",
    "        j = 1\n",
    "        X[n] = 0\n",
    "        while(j <= X[n-1]):\n",
    "            u = np.random.uniform()\n",
    "            #print(\"U: {}\".format(u))\n",
    "            i = 0\n",
    "            minimo = poisson(theta,i)\n",
    "            while(u >= minimo):\n",
    "                i +=1\n",
    "                minimo += poisson(theta,i)\n",
    "                #print(\"min: {}\".format(minimo) )\n",
    "                \n",
    "            X[n] += i\n",
    "            j += 1\n",
    "        "
   ]
  },
  {
   "cell_type": "code",
   "execution_count": 15,
   "metadata": {},
   "outputs": [],
   "source": [
    "X = np.zeros(21, int)\n",
    "X[0] = 10"
   ]
  },
  {
   "cell_type": "code",
   "execution_count": 16,
   "metadata": {},
   "outputs": [
    {
     "name": "stdout",
     "output_type": "stream",
     "text": [
      "Inicio: 1\n",
      "Inicio: 2\n"
     ]
    }
   ],
   "source": [
    "ramificacao(20,X,0.2)"
   ]
  },
  {
   "cell_type": "code",
   "execution_count": 17,
   "metadata": {},
   "outputs": [
    {
     "data": {
      "text/plain": [
       "array([10,  3,  0,  0,  0,  0,  0,  0,  0,  0,  0,  0,  0,  0,  0,  0,  0,\n",
       "        0,  0,  0,  0])"
      ]
     },
     "execution_count": 17,
     "metadata": {},
     "output_type": "execute_result"
    }
   ],
   "source": [
    "X"
   ]
  },
  {
   "cell_type": "code",
   "execution_count": 18,
   "metadata": {},
   "outputs": [],
   "source": [
    "W = np.zeros(21,int)\n",
    "W[0] = 10\n"
   ]
  },
  {
   "cell_type": "code",
   "execution_count": 19,
   "metadata": {},
   "outputs": [
    {
     "name": "stdout",
     "output_type": "stream",
     "text": [
      "Inicio: 1\n",
      "Inicio: 2\n",
      "Inicio: 3\n",
      "Inicio: 4\n",
      "Inicio: 5\n",
      "Inicio: 6\n",
      "Inicio: 7\n",
      "Inicio: 8\n",
      "Inicio: 9\n",
      "Inicio: 10\n",
      "Inicio: 11\n",
      "Inicio: 12\n",
      "Inicio: 13\n",
      "Inicio: 14\n",
      "Inicio: 15\n",
      "Inicio: 16\n",
      "Inicio: 17\n",
      "Inicio: 18\n",
      "Inicio: 19\n",
      "Inicio: 20\n"
     ]
    }
   ],
   "source": [
    "ramificacao(20,W,2.2)"
   ]
  },
  {
   "cell_type": "code",
   "execution_count": 20,
   "metadata": {},
   "outputs": [
    {
     "data": {
      "text/plain": [
       "array([      10,       22,       44,       91,      210,      438,\n",
       "            947,     2104,     4542,     9929,    21866,    47844,\n",
       "         104958,   230975,   507625,  1117532,  2459952,  5417157,\n",
       "       11914781, 26222123, 57686708])"
      ]
     },
     "execution_count": 20,
     "metadata": {},
     "output_type": "execute_result"
    }
   ],
   "source": [
    "W"
   ]
  },
  {
   "cell_type": "markdown",
   "metadata": {},
   "source": [
    "## b) Nos dois casos diga o que puder sobre o limite:\n",
    "$\\lim_{n to \\infty} P(X_n \\geq 1| X_0 = 10)$"
   ]
  },
  {
   "cell_type": "markdown",
   "metadata": {},
   "source": [
    "## Para o primeiro caso, onde $\\theta = 0.2$, $X_n$ vai rapidamente a 0. Assim,  $P(X_n \\geq 1| X_0 = 10)$ quando n vai para o infinito é 0.\n",
    "No caso onde $\\theta = 2.2$, ocorre o contrário, o valor cresce e $X_n$ vai ser sempre maior que 1 quando o n for a infinito.\n",
    "\n",
    "Com isso, poderíamos ter uma ideia da grandeza do valor de $E(X_{20})$.\n",
    "$E(X_n|X_0 = 10) = 10 (kp)^n$\n",
    "No caso da Poisson, temos que este valor é igual a $\\theta$.\n",
    "Desta maneira, para o $\\theta = 0.2$, teríamos: $10 * (0,2)^{20} = 1,048x10^{-13}$; para $\\theta = 2.2$, teríamos: $10 * (2,2)^{20} = 7,05x10^7$. Portanto, os meus resultados correspondem à grandeza esperada."
   ]
  },
  {
   "cell_type": "markdown",
   "metadata": {},
   "source": [
    "# Questão 2 - Modelo simplificado de epidemia, com número aleatório de contatos por indivíduo com:"
   ]
  },
  {
   "cell_type": "markdown",
   "metadata": {},
   "source": [
    "$q_k = (1 - \\alpha) \\alpha^k, k = 0,1,2,...$,\n",
    "onde, $\\alpha \\in (0,1)$\n"
   ]
  },
  {
   "cell_type": "markdown",
   "metadata": {},
   "source": [
    "Vamos considerar dois casos:\n",
    "\n",
    "\n",
    "$\\alpha = 0,9$ e $p = 0,n_2$\n",
    "\n",
    "\n",
    "\n",
    "\n",
    "$\\alpha = 0,1$ e $p = 0,n_2$\n",
    "\n",
    "Sendo $n_2$ o penúltimo dígito diferente de 0 do meu nUSP, nesse caso 0,3 pois o meu NUSP é 3759732"
   ]
  },
  {
   "cell_type": "markdown",
   "metadata": {},
   "source": [
    "## a) Inspirando-se no algoritmo de simulação dado, escrever o pseudocódigo para simular o modelo de epidemia com número aleatório."
   ]
  },
  {
   "cell_type": "code",
   "execution_count": 21,
   "metadata": {},
   "outputs": [],
   "source": [
    "def qk(alpha, k):\n",
    "    q = (1-alpha)*math.pow(alpha,k)\n",
    "    return q"
   ]
  },
  {
   "cell_type": "code",
   "execution_count": 27,
   "metadata": {},
   "outputs": [],
   "source": [
    "def epidemia(M,X,alpha,p):\n",
    "    n = 0 \n",
    "    while (X[n]!=0 and n<M-1):\n",
    "        n += 1\n",
    "        print(\"Inicio: {}\".format(n))\n",
    "        X[n] = 0\n",
    "        for i in range(X[n-1]):\n",
    "            k = 0 #número de contatos\n",
    "            u = np.random.uniform()\n",
    "            #print(\"u1 {}\".format(u))\n",
    "            contatos = qk(alpha, k)\n",
    "            while(u>=contatos):\n",
    "                k += 1\n",
    "                contatos += qk(alpha, k)\n",
    "            #agora eu descobri o número de contatos e vou ver quais desses tem a chance de serem infectados\n",
    "            s = 0 \n",
    "            j = 0\n",
    "            for j in range(k):\n",
    "                u = np.random.uniform()\n",
    "                #print(\"u2 {}\".format(u))\n",
    "                if(u<=p):\n",
    "                    s += 1\n",
    "            X[n] += s\n",
    "            #print(\"X[{}] = {}\".format(n, X[n]))\n"
   ]
  },
  {
   "cell_type": "markdown",
   "metadata": {},
   "source": [
    "## b) Simule 20 passos do algoritmo para os dois casos descritos no enunciado, iniciando o processor com $X_0 = 10$."
   ]
  },
  {
   "cell_type": "code",
   "execution_count": 28,
   "metadata": {},
   "outputs": [],
   "source": [
    "Y = np.zeros(21, int)\n",
    "Y[0] = 10"
   ]
  },
  {
   "cell_type": "code",
   "execution_count": null,
   "metadata": {},
   "outputs": [
    {
     "name": "stdout",
     "output_type": "stream",
     "text": [
      "Inicio: 1\n",
      "Inicio: 2\n",
      "Inicio: 3\n",
      "Inicio: 4\n",
      "Inicio: 5\n",
      "Inicio: 6\n",
      "Inicio: 7\n",
      "Inicio: 8\n",
      "Inicio: 9\n",
      "Inicio: 10\n",
      "Inicio: 11\n",
      "Inicio: 12\n",
      "Inicio: 13\n",
      "Inicio: 14\n",
      "Inicio: 15\n",
      "Inicio: 16\n",
      "Inicio: 17\n",
      "Inicio: 18\n"
     ]
    }
   ],
   "source": [
    "epidemia(20,Y,0.9,0.3)"
   ]
  },
  {
   "cell_type": "code",
   "execution_count": null,
   "metadata": {},
   "outputs": [],
   "source": [
    "Y"
   ]
  },
  {
   "cell_type": "code",
   "execution_count": null,
   "metadata": {},
   "outputs": [],
   "source": [
    "Z = np.zeros(20,int)\n",
    "Z[0] = 10"
   ]
  },
  {
   "cell_type": "code",
   "execution_count": null,
   "metadata": {},
   "outputs": [],
   "source": [
    "epidemia(21,Z,0.1,0.3)"
   ]
  },
  {
   "cell_type": "code",
   "execution_count": null,
   "metadata": {},
   "outputs": [],
   "source": [
    "Z"
   ]
  },
  {
   "cell_type": "markdown",
   "metadata": {},
   "source": [
    "## c) Para os dois casos calcular o seguinte:\n",
    "$\\lim_{n to \\infty} P(X_n \\geq 1| X_0 = 10)$"
   ]
  },
  {
   "cell_type": "markdown",
   "metadata": {},
   "source": [
    "Para o primeiro caso, onde nosso $\\alpha = 0.9$ depois o valor de $X_n$ cresce rapidamente, assim o limite é 1, a $P(X_n \\geq 1| X_0 = 10)$ quando n tende a infinito é 1.\n",
    "Já, no segundo caso, nosso $\\alpha = 0.1$, fazendo com que o número de contatos seja menor, e mantemos a probabilidade de infecção igual. Dessa maneira, quando n tende a infinito a $P(X_n \\geq 1| X_0 = 10)$ é 0."
   ]
  },
  {
   "cell_type": "code",
   "execution_count": null,
   "metadata": {},
   "outputs": [],
   "source": []
  }
 ],
 "metadata": {
  "kernelspec": {
   "display_name": "Python 3",
   "language": "python",
   "name": "python3"
  },
  "language_info": {
   "codemirror_mode": {
    "name": "ipython",
    "version": 3
   },
   "file_extension": ".py",
   "mimetype": "text/x-python",
   "name": "python",
   "nbconvert_exporter": "python",
   "pygments_lexer": "ipython3",
   "version": "3.7.3"
  }
 },
 "nbformat": 4,
 "nbformat_minor": 4
}
